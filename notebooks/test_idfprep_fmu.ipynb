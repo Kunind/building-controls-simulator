{
 "cells": [
  {
   "cell_type": "code",
   "execution_count": 1,
   "metadata": {},
   "outputs": [],
   "source": [
    "import pandas as pd\n",
    "import matplotlib.pyplot as plt\n",
    "import subprocess\n",
    "import pyfmi\n",
    "import os\n",
    "\n",
    "import imp\n",
    "\n",
    "import BuildingControlSimulator\n",
    "from BuildingControlSimulator.BuildingModels.IDFPreprocessor import IDFPreprocessor"
   ]
  },
  {
   "cell_type": "code",
   "execution_count": 2,
   "metadata": {},
   "outputs": [],
   "source": [
    "%load_ext autoreload\n",
    "%autoreload 2"
   ]
  },
  {
   "cell_type": "code",
   "execution_count": null,
   "metadata": {},
   "outputs": [],
   "source": []
  },
  {
   "cell_type": "code",
   "execution_count": 3,
   "metadata": {},
   "outputs": [
    {
     "name": "stdout",
     "output_type": "stream",
     "text": [
      "IDFPreprocessor loading .idf file: /root/home/lib/building-control-simulator/idf/v9-2-0/Furnace_920.idf\n"
     ]
    }
   ],
   "source": [
    "idf = IDFPreprocessor(idf_name=\"Furnace_920.idf\", weather_name=\"USA_CA_San.Francisco.Intl.AP.724940_TMY3.epw\")"
   ]
  },
  {
   "cell_type": "code",
   "execution_count": 4,
   "metadata": {},
   "outputs": [
    {
     "name": "stdout",
     "output_type": "stream",
     "text": [
      "Adding on-off set point control\n",
      "Adding external interface outputs\n"
     ]
    }
   ],
   "source": [
    "idf.add_control()"
   ]
  },
  {
   "cell_type": "code",
   "execution_count": 5,
   "metadata": {},
   "outputs": [
    {
     "data": {
      "text/plain": [
       "'/root/home/lib/building-control-simulator/notebooks'"
      ]
     },
     "execution_count": 5,
     "metadata": {},
     "output_type": "execute_result"
    }
   ],
   "source": [
    "os.getcwd()"
   ]
  },
  {
   "cell_type": "code",
   "execution_count": 6,
   "metadata": {},
   "outputs": [
    {
     "data": {
      "text/plain": [
       "'/root/home/lib/building-control-simulator/fmu/v9-2-0/Furnace_920_prep.fmu'"
      ]
     },
     "execution_count": 6,
     "metadata": {},
     "output_type": "execute_result"
    }
   ],
   "source": [
    "idf.make_fmu()"
   ]
  },
  {
   "cell_type": "code",
   "execution_count": 6,
   "metadata": {},
   "outputs": [],
   "source": [
    "cmd = f'yes | {os.environ[\"EXT_DIR\"]}/FMUComplianceChecker/fmuCheck.linux64 -h {6} -s 172800 /root/home/lib/building-control-simulator/fmu/v9-2-0/Furnace_920_prep.fmu'.split()\n",
    "        "
   ]
  },
  {
   "cell_type": "code",
   "execution_count": 7,
   "metadata": {},
   "outputs": [
    {
     "ename": "NameError",
     "evalue": "name 'cmd' is not defined",
     "output_type": "error",
     "traceback": [
      "\u001b[0;31m---------------------------------------------------------------------------\u001b[0m",
      "\u001b[0;31mNameError\u001b[0m                                 Traceback (most recent call last)",
      "\u001b[0;32m<ipython-input-7-8da53c836b6e>\u001b[0m in \u001b[0;36m<module>\u001b[0;34m\u001b[0m\n\u001b[0;32m----> 1\u001b[0;31m \u001b[0;34m\" \"\u001b[0m\u001b[0;34m.\u001b[0m\u001b[0mjoin\u001b[0m\u001b[0;34m(\u001b[0m\u001b[0mcmd\u001b[0m\u001b[0;34m)\u001b[0m\u001b[0;34m\u001b[0m\u001b[0;34m\u001b[0m\u001b[0m\n\u001b[0m",
      "\u001b[0;31mNameError\u001b[0m: name 'cmd' is not defined"
     ]
    }
   ],
   "source": [
    "\" \".join(cmd)"
   ]
  },
  {
   "cell_type": "code",
   "execution_count": null,
   "metadata": {},
   "outputs": [],
   "source": [
    "subprocess.run(cmd, stdout=subprocess.PIPE)"
   ]
  },
  {
   "cell_type": "code",
   "execution_count": null,
   "metadata": {},
   "outputs": [],
   "source": []
  },
  {
   "cell_type": "code",
   "execution_count": 42,
   "metadata": {},
   "outputs": [],
   "source": [
    "cmd = 'python2.7 /root/home/lib/external/EnergyPlusToFMU/Scripts/EnergyPlusToFMU.py -i /usr/local/EnergyPlus-9-2-0/PreProcess/IDFVersionUpdater/V9-2-0-Energy+.idd -w /root/home/lib/building-control-simulator/weather/USA_CA_San.Francisco.Intl.AP.724940_TMY3.epw -d /root/home/lib/building-control-simulator/idf/v9-2-0/preprocessed/Furnace_920_prep.idf'"
   ]
  },
  {
   "cell_type": "code",
   "execution_count": 32,
   "metadata": {},
   "outputs": [],
   "source": [
    "cmd = 'python2.7 -c print(2)'"
   ]
  },
  {
   "cell_type": "code",
   "execution_count": 66,
   "metadata": {},
   "outputs": [],
   "source": [
    "process = subprocess.run(cmd.split(), stdout=subprocess.PIPE)"
   ]
  },
  {
   "cell_type": "code",
   "execution_count": 70,
   "metadata": {},
   "outputs": [
    {
     "data": {
      "text/plain": [
       "b'Reading input and weather file for EnergyPlusToFMU program.\\n! EnergyPlusToFMU.py -- Setting IDF file to {/root/home/lib/building-control-simulator/idf/v9-2-0/preprocessed/Furnace_920_prep.idf}\\n! EnergyPlusToFMU.py -- Begin exporting IDF file {/root/home/lib/building-control-simulator/idf/v9-2-0/preprocessed/Furnace_920_prep.idf} as an FMU\\n! EnergyPlusToFMU.py -- Using model identifier {Furnace_920_prep}\\n! EnergyPlusToFMU.py -- Checking for export-prep application\\n! makeExportPrepApp.pyc -- Begin creating executable {idf-to-fmu-export-prep-linux}\\n! makeExportPrepApp.pyc -- Using system-specific scripts from batch directory {linux}\\n! utilManageCompileLink.pyc -- Begin compile-link build of {idf-to-fmu-export-prep-linux}\\n! utilManageCompileLink.pyc -- Output file {idf-to-fmu-export-prep-linux} already exists; doing nothing\\n! EnergyPlusToFMU.py -- Running export-prep application {idf-to-fmu-export-prep-linux}\\n! makeFMULib.pyc -- Begin creating shared FMU library for model {Furnace_920_prep}\\n! makeFMULib.pyc -- Using system-specific scripts from batch directory {linux}\\n! makeFMULib.pyc -- Setting {#define MODEL_IDENTIFIER} to {Furnace_920_prep} in copy of {/root/home/lib/external/EnergyPlusToFMU/Scripts/../SourceCode/EnergyPlus/main.c}\\n! utilManageCompileLink.pyc -- Begin compile-link build of {Furnace_920_prep.so}\\n! utilManageCompileLink.pyc -- Creating build directory {bld-Furnace_920_prep-so}\\n! utilManageCompileLink.pyc -- Jumping to build directory {bld-Furnace_920_prep-so}\\n! utilManageCompileLink.pyc -- Compiling files using {/root/home/lib/external/EnergyPlusToFMU/Scripts/linux/compile-c.sh}\\n! utilManageCompileLink.pyc -- Compiling {temp-Furnace_920_prep.c}\\n! utilManageCompileLink.pyc -- Compiling {stack.c}\\n! utilManageCompileLink.pyc -- Compiling {util.c}\\n! utilManageCompileLink.pyc -- Compiling {utilSocket.c}\\n! utilManageCompileLink.pyc -- Compiling {xml_parser_cosim.c}\\n! utilManageCompileLink.pyc -- Compiling {xmlparse.c}\\n! utilManageCompileLink.pyc -- Compiling {xmlrole.c}\\n! utilManageCompileLink.pyc -- Compiling {xmltok.c}\\n! utilManageCompileLink.pyc -- Linking object files using {/root/home/lib/external/EnergyPlusToFMU/Scripts/linux/link-c-lib.sh}\\n! utilManageCompileLink.pyc -- Linking to create {Furnace_920_prep.so}\\n! utilManageCompileLink.pyc -- Moving output file {Furnace_920_prep.so} to directory {/root/home/lib/building-control-simulator/notebooks}\\n! utilManageCompileLink.pyc -- Cleaning up intermediate files\\n! utilManageCompileLink.pyc -- Removing build directory {/root/home/lib/building-control-simulator/notebooks/bld-Furnace_920_prep-so}\\n! makeFMULib.pyc -- Building utility application {util-get-address-size.exe}\\n! utilManageCompileLink.pyc -- Begin compile-link build of {util-get-address-size.exe}\\n! utilManageCompileLink.pyc -- Creating build directory {bld-util-get-address-size-exe}\\n! utilManageCompileLink.pyc -- Jumping to build directory {bld-util-get-address-size-exe}\\n! utilManageCompileLink.pyc -- Compiling files using {/root/home/lib/external/EnergyPlusToFMU/Scripts/linux/compile-c.sh}\\n! utilManageCompileLink.pyc -- Compiling {get-address-size.c}\\n! utilManageCompileLink.pyc -- Linking object files using {/root/home/lib/external/EnergyPlusToFMU/Scripts/linux/link-c-exe.sh}\\n! utilManageCompileLink.pyc -- Linking to create {util-get-address-size.exe}\\n! utilManageCompileLink.pyc -- Moving output file {util-get-address-size.exe} to directory {/root/home/lib/building-control-simulator/notebooks}\\n! utilManageCompileLink.pyc -- Cleaning up intermediate files\\n! utilManageCompileLink.pyc -- Removing build directory {/root/home/lib/building-control-simulator/notebooks/bld-util-get-address-size-exe}\\n! makeFMULib.pyc -- Running utility application {util-get-address-size.exe}\\n! makeFMULib.pyc -- FMU shared library {Furnace_920_prep.so} has address size {64}\\n! makeFMULib.pyc -- Cleaning up intermediate files\\n! EnergyPlusToFMU.py -- Creating zip file {Furnace_920_prep.zip}, with compression on\\n! EnergyPlusToFMU.py -- Renaming completed zip file {Furnace_920_prep.zip} to {Furnace_920_prep.fmu}\\n! EnergyPlusToFMU.py -- Cleaning up intermediate files\\n'"
      ]
     },
     "execution_count": 70,
     "metadata": {},
     "output_type": "execute_result"
    }
   ],
   "source": [
    "process.stdout"
   ]
  },
  {
   "cell_type": "code",
   "execution_count": 45,
   "metadata": {},
   "outputs": [],
   "source": [
    "error"
   ]
  },
  {
   "cell_type": "code",
   "execution_count": 15,
   "metadata": {},
   "outputs": [
    {
     "data": {
      "text/plain": [
       "CompletedProcess(args=['python2.7', '\"/root/home/lib/external/EnergyPlusToFMU/Scripts/EnergyPlusToFMU.py\"'], returncode=0, stdout=b'', stderr=b'')"
      ]
     },
     "execution_count": 15,
     "metadata": {},
     "output_type": "execute_result"
    }
   ],
   "source": [
    "subprocess.run(cmd, shell=True, check=True, capture_output=True)"
   ]
  },
  {
   "cell_type": "code",
   "execution_count": 21,
   "metadata": {},
   "outputs": [
    {
     "data": {
      "text/plain": [
       "environ{'LC_ALL': 'C.UTF-8',\n",
       "        'PACKAGE_NAME': 'building-control-simulator',\n",
       "        'ENERGYPLUS_INSTALL_DIR': '/usr/local',\n",
       "        'FMIL_HOME': '/root/home/lib/external/FMIL/build-fmil',\n",
       "        'LANG': 'C.UTF-8',\n",
       "        'HOSTNAME': 'c3dd7717bb6f',\n",
       "        'PYENV_ROOT': '/root/home/pyenv',\n",
       "        'LIB_DIR': '/root/home/lib',\n",
       "        'IS_DOCKER_ENV': 'true',\n",
       "        'EPLUS_DIR': '/usr/local/EnergyPlus-9-2-0',\n",
       "        'PACKAGE_DIR': '/root/home/lib/building-control-simulator',\n",
       "        'VIRTUAL_ENV': '/root/home/.local/share/virtualenvs/building-control-simulator-V7Z7kT9Q',\n",
       "        'PIP_PYTHON_PATH': '/usr/bin/python3',\n",
       "        'IDF_PREPROCESSED_DIR': '/root/home/lib/building-control-simulator/idf/v9-2-0/preprocessed',\n",
       "        'PWD': '/root/home/lib/building-control-simulator',\n",
       "        'HOME': '/root/home',\n",
       "        'PIPENV_ACTIVE': '1',\n",
       "        'IDF_DIR': '/root/home/lib/building-control-simulator/idf/v9-2-0',\n",
       "        'TERM': 'xterm-color',\n",
       "        'EXT_DIR': '/root/home/lib/external',\n",
       "        'ENERGYPLUS_INSTALL_VERSION': '9-2-0',\n",
       "        'PYTHONDONTWRITEBYTECODE': '1',\n",
       "        'PYENV_SHELL': 'bash',\n",
       "        'SHLVL': '2',\n",
       "        'EPLUS_IDD': '/usr/local/EnergyPlus-9-2-0/PreProcess/IDFVersionUpdater/V9-2-0-Energy+.idd',\n",
       "        'PIP_DISABLE_PIP_VERSION_CHECK': '1',\n",
       "        'PATH': '/root/home/.local/share/virtualenvs/building-control-simulator-V7Z7kT9Q/bin:/root/home/pyenv/shims:/root/home/pyenv/bin:/usr/local/sbin:/usr/local/bin:/usr/sbin:/usr/bin:/sbin:/bin:/usr/local/EnergyPlus-9-2-0',\n",
       "        'PS1': '(building-control-simulator) ${debian_chroot:+($debian_chroot)}\\\\u@\\\\h:\\\\w\\\\$ ',\n",
       "        'FMU_DIR': '/root/home/lib/building-control-simulator/fmu/v9-2-0',\n",
       "        '_': '/root/home/.local/share/virtualenvs/building-control-simulator-V7Z7kT9Q/bin/jupyter-lab',\n",
       "        'KERNEL_LAUNCH_TIMEOUT': '40',\n",
       "        'JPY_PARENT_PID': '187',\n",
       "        'CLICOLOR': '1',\n",
       "        'PAGER': 'cat',\n",
       "        'GIT_PAGER': 'cat',\n",
       "        'MPLBACKEND': 'module://ipykernel.pylab.backend_inline'}"
      ]
     },
     "execution_count": 21,
     "metadata": {},
     "output_type": "execute_result"
    }
   ],
   "source": [
    "os.environ"
   ]
  },
  {
   "cell_type": "code",
   "execution_count": null,
   "metadata": {},
   "outputs": [],
   "source": []
  }
 ],
 "metadata": {
  "kernelspec": {
   "display_name": "Python 3",
   "language": "python",
   "name": "python3"
  },
  "language_info": {
   "codemirror_mode": {
    "name": "ipython",
    "version": 3
   },
   "file_extension": ".py",
   "mimetype": "text/x-python",
   "name": "python",
   "nbconvert_exporter": "python",
   "pygments_lexer": "ipython3",
   "version": "3.7.6"
  }
 },
 "nbformat": 4,
 "nbformat_minor": 4
}
